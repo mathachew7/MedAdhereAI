{
 "cells": [
  {
   "cell_type": "markdown",
   "id": "f0a54715",
   "metadata": {},
   "source": [
    "# 🏗️ Phase 2: Feature Engineering – MedAdhereAI\n",
    "\n",
    "In this phase, we engineer meaningful features from patient-level refill data.  \n",
    "We aim to transform transactional claim data into aggregated, interpretable metrics that can improve adherence prediction models.\n"
   ]
  },
  {
   "cell_type": "markdown",
   "id": "38fc5401",
   "metadata": {},
   "source": [
    "### 🔹 Step 1: Load Cleaned and Sorted Dataset\n",
    "\n",
    "We use the cleaned, date-parsed, and refill gap-calculated data from Phase 1.  \n",
    "This dataset includes:\n",
    "- Binary target (`ADHERENT_BINARY`)\n",
    "- Date features (`SERVICE DATE`, `BIRTHDATE`, etc.)\n",
    "- Time gaps (`DAYS_SINCE_LAST_REFILL`)\n"
   ]
  },
  {
   "cell_type": "code",
   "execution_count": 22,
   "id": "3cd03c59",
   "metadata": {},
   "outputs": [
    {
     "data": {
      "text/html": [
       "<div>\n",
       "<style scoped>\n",
       "    .dataframe tbody tr th:only-of-type {\n",
       "        vertical-align: middle;\n",
       "    }\n",
       "\n",
       "    .dataframe tbody tr th {\n",
       "        vertical-align: top;\n",
       "    }\n",
       "\n",
       "    .dataframe thead th {\n",
       "        text-align: right;\n",
       "    }\n",
       "</style>\n",
       "<table border=\"1\" class=\"dataframe\">\n",
       "  <thead>\n",
       "    <tr style=\"text-align: right;\">\n",
       "      <th></th>\n",
       "      <th>MEMBER</th>\n",
       "      <th>SERVICE DATE</th>\n",
       "      <th>DAYS_SINCE_LAST_REFILL</th>\n",
       "    </tr>\n",
       "  </thead>\n",
       "  <tbody>\n",
       "    <tr>\n",
       "      <th>47110</th>\n",
       "      <td>92222888</td>\n",
       "      <td>2022-06-02</td>\n",
       "      <td>NaN</td>\n",
       "    </tr>\n",
       "    <tr>\n",
       "      <th>47109</th>\n",
       "      <td>92222888</td>\n",
       "      <td>2022-09-01</td>\n",
       "      <td>91.0</td>\n",
       "    </tr>\n",
       "    <tr>\n",
       "      <th>20218</th>\n",
       "      <td>92222888</td>\n",
       "      <td>2022-09-07</td>\n",
       "      <td>6.0</td>\n",
       "    </tr>\n",
       "    <tr>\n",
       "      <th>47111</th>\n",
       "      <td>92222888</td>\n",
       "      <td>NaT</td>\n",
       "      <td>NaN</td>\n",
       "    </tr>\n",
       "    <tr>\n",
       "      <th>47112</th>\n",
       "      <td>92222888</td>\n",
       "      <td>NaT</td>\n",
       "      <td>NaN</td>\n",
       "    </tr>\n",
       "  </tbody>\n",
       "</table>\n",
       "</div>"
      ],
      "text/plain": [
       "         MEMBER SERVICE DATE  DAYS_SINCE_LAST_REFILL\n",
       "47110  92222888   2022-06-02                     NaN\n",
       "47109  92222888   2022-09-01                    91.0\n",
       "20218  92222888   2022-09-07                     6.0\n",
       "47111  92222888          NaT                     NaN\n",
       "47112  92222888          NaT                     NaN"
      ]
     },
     "execution_count": 22,
     "metadata": {},
     "output_type": "execute_result"
    }
   ],
   "source": [
    "import pandas as pd\n",
    "\n",
    "# Load dataset\n",
    "df = pd.read_csv('../dataset/raw/Diabetes Adherence Data.csv')\n",
    "\n",
    "# Convert service date just to be safe\n",
    "df['SERVICE DATE'] = pd.to_datetime(df['SERVICE DATE'], errors='coerce')\n",
    "\n",
    "# Sort and calculate refill gap\n",
    "df = df.sort_values(by=['MEMBER', 'SERVICE DATE'])\n",
    "df['DAYS_SINCE_LAST_REFILL'] = df.groupby('MEMBER')['SERVICE DATE'].diff().dt.days\n",
    "\n",
    "# Preview\n",
    "df[['MEMBER', 'SERVICE DATE', 'DAYS_SINCE_LAST_REFILL']].head()\n"
   ]
  },
  {
   "cell_type": "markdown",
   "id": "e8d77654",
   "metadata": {},
   "source": [
    "Refill gaps are correctly computed, with `NaN` for first visits and `NaT` for missing service dates — the dataset is now ready for patient-level feature aggregation."
   ]
  },
  {
   "cell_type": "markdown",
   "id": "8ee107de",
   "metadata": {},
   "source": [
    "# Create adherence label\n",
    "We recreate the binary adherence label since this notebook starts from raw data.  \n",
    "This ensures we can merge it later with the patient-level feature set.\n"
   ]
  },
  {
   "cell_type": "code",
   "execution_count": 23,
   "id": "f5bdc6e0",
   "metadata": {},
   "outputs": [],
   "source": [
    "# Recreate adherence label\n",
    "df['ADHERENT_BINARY'] = df['ADHERENCE'].apply(lambda x: 1 if x >= 8 else 0)\n"
   ]
  },
  {
   "cell_type": "markdown",
   "id": "21a70db7",
   "metadata": {},
   "source": [
    "### 🔹 Step 2: Aggregate Refill Features Per Patient\n",
    "\n",
    "We now generate patient-level refill metrics using the `DAYS_SINCE_LAST_REFILL` and `SERVICE DATE` columns.\n",
    "\n",
    "These features include:\n",
    "- Average gap between refills\n",
    "- Maximum gap (longest break)\n",
    "- Total number of visits\n",
    "- First and last refill date\n",
    "- Refill duration (in days)\n",
    "\n",
    "These engineered features capture refill regularity, frequency, and duration for each patient.\n"
   ]
  },
  {
   "cell_type": "code",
   "execution_count": 24,
   "id": "ff4941d2",
   "metadata": {},
   "outputs": [
    {
     "data": {
      "text/html": [
       "<div>\n",
       "<style scoped>\n",
       "    .dataframe tbody tr th:only-of-type {\n",
       "        vertical-align: middle;\n",
       "    }\n",
       "\n",
       "    .dataframe tbody tr th {\n",
       "        vertical-align: top;\n",
       "    }\n",
       "\n",
       "    .dataframe thead th {\n",
       "        text-align: right;\n",
       "    }\n",
       "</style>\n",
       "<table border=\"1\" class=\"dataframe\">\n",
       "  <thead>\n",
       "    <tr style=\"text-align: right;\">\n",
       "      <th></th>\n",
       "      <th>avg_refill_gap</th>\n",
       "      <th>max_refill_gap</th>\n",
       "      <th>total_visits</th>\n",
       "      <th>first_refill_date</th>\n",
       "      <th>last_refill_date</th>\n",
       "      <th>refill_duration_days</th>\n",
       "    </tr>\n",
       "    <tr>\n",
       "      <th>MEMBER</th>\n",
       "      <th></th>\n",
       "      <th></th>\n",
       "      <th></th>\n",
       "      <th></th>\n",
       "      <th></th>\n",
       "      <th></th>\n",
       "    </tr>\n",
       "  </thead>\n",
       "  <tbody>\n",
       "    <tr>\n",
       "      <th>92222888</th>\n",
       "      <td>48.500000</td>\n",
       "      <td>91.0</td>\n",
       "      <td>3</td>\n",
       "      <td>2022-06-02</td>\n",
       "      <td>2022-09-07</td>\n",
       "      <td>97.0</td>\n",
       "    </tr>\n",
       "    <tr>\n",
       "      <th>92222969</th>\n",
       "      <td>26.444444</td>\n",
       "      <td>149.0</td>\n",
       "      <td>10</td>\n",
       "      <td>2022-01-08</td>\n",
       "      <td>2022-09-03</td>\n",
       "      <td>238.0</td>\n",
       "    </tr>\n",
       "    <tr>\n",
       "      <th>92223895</th>\n",
       "      <td>0.000000</td>\n",
       "      <td>0.0</td>\n",
       "      <td>2</td>\n",
       "      <td>2022-07-12</td>\n",
       "      <td>2022-07-12</td>\n",
       "      <td>0.0</td>\n",
       "    </tr>\n",
       "    <tr>\n",
       "      <th>92224675</th>\n",
       "      <td>63.500000</td>\n",
       "      <td>244.0</td>\n",
       "      <td>5</td>\n",
       "      <td>2022-01-01</td>\n",
       "      <td>2022-09-12</td>\n",
       "      <td>254.0</td>\n",
       "    </tr>\n",
       "    <tr>\n",
       "      <th>92225985</th>\n",
       "      <td>78.500000</td>\n",
       "      <td>95.0</td>\n",
       "      <td>3</td>\n",
       "      <td>2022-06-04</td>\n",
       "      <td>2022-11-08</td>\n",
       "      <td>157.0</td>\n",
       "    </tr>\n",
       "  </tbody>\n",
       "</table>\n",
       "</div>"
      ],
      "text/plain": [
       "          avg_refill_gap  max_refill_gap  total_visits first_refill_date  \\\n",
       "MEMBER                                                                     \n",
       "92222888       48.500000            91.0             3        2022-06-02   \n",
       "92222969       26.444444           149.0            10        2022-01-08   \n",
       "92223895        0.000000             0.0             2        2022-07-12   \n",
       "92224675       63.500000           244.0             5        2022-01-01   \n",
       "92225985       78.500000            95.0             3        2022-06-04   \n",
       "\n",
       "         last_refill_date  refill_duration_days  \n",
       "MEMBER                                           \n",
       "92222888       2022-09-07                  97.0  \n",
       "92222969       2022-09-03                 238.0  \n",
       "92223895       2022-07-12                   0.0  \n",
       "92224675       2022-09-12                 254.0  \n",
       "92225985       2022-11-08                 157.0  "
      ]
     },
     "execution_count": 24,
     "metadata": {},
     "output_type": "execute_result"
    }
   ],
   "source": [
    "# Group by MEMBER and calculate refill stats\n",
    "agg_refill = df.groupby('MEMBER').agg(\n",
    "    avg_refill_gap=('DAYS_SINCE_LAST_REFILL', 'mean'),\n",
    "    max_refill_gap=('DAYS_SINCE_LAST_REFILL', 'max'),\n",
    "    total_visits=('SERVICE DATE', 'count'),\n",
    "    first_refill_date=('SERVICE DATE', 'min'),\n",
    "    last_refill_date=('SERVICE DATE', 'max')\n",
    ")\n",
    "\n",
    "# Duration of observed refill behavior (in days)\n",
    "agg_refill['refill_duration_days'] = (agg_refill['last_refill_date'] - agg_refill['first_refill_date']).dt.days\n",
    "\n",
    "# Preview\n",
    "agg_refill.head()\n"
   ]
  },
  {
   "cell_type": "markdown",
   "id": "00b51154",
   "metadata": {},
   "source": [
    "### Aggregated Refill Metrics\n",
    "\n",
    "Each patient now has key refill behavior metrics:\n",
    "\n",
    "- `avg_refill_gap`: Average days between visits (e.g., 48.5, 63.5)\n",
    "- `max_refill_gap`: Longest gap between refills (some over 240 days)\n",
    "- `total_visits`: Number of recorded refills (from 2 to 10+)\n",
    "- `refill_duration_days`: Total observed duration of refill history (spanning 0 to 250+ days)\n",
    "\n",
    "These engineered features capture **refill frequency, regularity, and range**, and will feed directly into our model to predict medication adherence.\n"
   ]
  },
  {
   "cell_type": "markdown",
   "id": "37d82793",
   "metadata": {},
   "source": [
    "### 🔹 Step 3: Merge Adherence Labels\n",
    "\n",
    "To prepare the dataset for classification, we attach the binary adherence label (`ADHERENT_BINARY`) to each patient’s aggregated refill features.\n",
    "\n",
    "We’ll take the **most recent label** per patient, assuming it's based on their final known behavior.\n"
   ]
  },
  {
   "cell_type": "code",
   "execution_count": 25,
   "id": "89bfe8a2",
   "metadata": {},
   "outputs": [
    {
     "data": {
      "text/html": [
       "<div>\n",
       "<style scoped>\n",
       "    .dataframe tbody tr th:only-of-type {\n",
       "        vertical-align: middle;\n",
       "    }\n",
       "\n",
       "    .dataframe tbody tr th {\n",
       "        vertical-align: top;\n",
       "    }\n",
       "\n",
       "    .dataframe thead th {\n",
       "        text-align: right;\n",
       "    }\n",
       "</style>\n",
       "<table border=\"1\" class=\"dataframe\">\n",
       "  <thead>\n",
       "    <tr style=\"text-align: right;\">\n",
       "      <th></th>\n",
       "      <th>avg_refill_gap</th>\n",
       "      <th>max_refill_gap</th>\n",
       "      <th>total_visits</th>\n",
       "      <th>first_refill_date</th>\n",
       "      <th>last_refill_date</th>\n",
       "      <th>refill_duration_days</th>\n",
       "      <th>ADHERENT_BINARY</th>\n",
       "    </tr>\n",
       "    <tr>\n",
       "      <th>MEMBER</th>\n",
       "      <th></th>\n",
       "      <th></th>\n",
       "      <th></th>\n",
       "      <th></th>\n",
       "      <th></th>\n",
       "      <th></th>\n",
       "      <th></th>\n",
       "    </tr>\n",
       "  </thead>\n",
       "  <tbody>\n",
       "    <tr>\n",
       "      <th>92222888</th>\n",
       "      <td>48.500000</td>\n",
       "      <td>91.0</td>\n",
       "      <td>3</td>\n",
       "      <td>2022-06-02</td>\n",
       "      <td>2022-09-07</td>\n",
       "      <td>97.0</td>\n",
       "      <td>0</td>\n",
       "    </tr>\n",
       "    <tr>\n",
       "      <th>92222969</th>\n",
       "      <td>26.444444</td>\n",
       "      <td>149.0</td>\n",
       "      <td>10</td>\n",
       "      <td>2022-01-08</td>\n",
       "      <td>2022-09-03</td>\n",
       "      <td>238.0</td>\n",
       "      <td>1</td>\n",
       "    </tr>\n",
       "    <tr>\n",
       "      <th>92223895</th>\n",
       "      <td>0.000000</td>\n",
       "      <td>0.0</td>\n",
       "      <td>2</td>\n",
       "      <td>2022-07-12</td>\n",
       "      <td>2022-07-12</td>\n",
       "      <td>0.0</td>\n",
       "      <td>1</td>\n",
       "    </tr>\n",
       "    <tr>\n",
       "      <th>92224675</th>\n",
       "      <td>63.500000</td>\n",
       "      <td>244.0</td>\n",
       "      <td>5</td>\n",
       "      <td>2022-01-01</td>\n",
       "      <td>2022-09-12</td>\n",
       "      <td>254.0</td>\n",
       "      <td>1</td>\n",
       "    </tr>\n",
       "    <tr>\n",
       "      <th>92225985</th>\n",
       "      <td>78.500000</td>\n",
       "      <td>95.0</td>\n",
       "      <td>3</td>\n",
       "      <td>2022-06-04</td>\n",
       "      <td>2022-11-08</td>\n",
       "      <td>157.0</td>\n",
       "      <td>1</td>\n",
       "    </tr>\n",
       "  </tbody>\n",
       "</table>\n",
       "</div>"
      ],
      "text/plain": [
       "          avg_refill_gap  max_refill_gap  total_visits first_refill_date  \\\n",
       "MEMBER                                                                     \n",
       "92222888       48.500000            91.0             3        2022-06-02   \n",
       "92222969       26.444444           149.0            10        2022-01-08   \n",
       "92223895        0.000000             0.0             2        2022-07-12   \n",
       "92224675       63.500000           244.0             5        2022-01-01   \n",
       "92225985       78.500000            95.0             3        2022-06-04   \n",
       "\n",
       "         last_refill_date  refill_duration_days  ADHERENT_BINARY  \n",
       "MEMBER                                                            \n",
       "92222888       2022-09-07                  97.0                0  \n",
       "92222969       2022-09-03                 238.0                1  \n",
       "92223895       2022-07-12                   0.0                1  \n",
       "92224675       2022-09-12                 254.0                1  \n",
       "92225985       2022-11-08                 157.0                1  "
      ]
     },
     "execution_count": 25,
     "metadata": {},
     "output_type": "execute_result"
    }
   ],
   "source": [
    "# For each patient, get their latest adherence label\n",
    "latest_labels = (\n",
    "    df.sort_values(by=['MEMBER', 'SERVICE DATE'])\n",
    "      .groupby('MEMBER')['ADHERENT_BINARY']\n",
    "      .last()\n",
    ")\n",
    "\n",
    "# Merge into the aggregated refill dataset\n",
    "agg_refill = agg_refill.merge(latest_labels, left_index=True, right_index=True)\n",
    "\n",
    "# Preview result\n",
    "agg_refill.head()\n"
   ]
  },
  {
   "cell_type": "markdown",
   "id": "ea44fa8c",
   "metadata": {},
   "source": [
    "We now have a complete patient-level dataset containing engineered refill features and the binary adherence label.\n",
    "\n",
    "This dataset is ready for further enrichment (e.g., demographics) or direct use in training classification models.\n"
   ]
  },
  {
   "cell_type": "markdown",
   "id": "154e1f32",
   "metadata": {},
   "source": [
    "### 🔹 Step 4: Merge Demographic Features (GENDER and AGE)\n",
    "\n",
    "We enrich the aggregated dataset with patient demographics.  \n",
    "`GENDER` and `BIRTHDATE` are taken from the first known record for each patient.  \n",
    "We then compute `AGE` and merge both into the main feature table.\n"
   ]
  },
  {
   "cell_type": "code",
   "execution_count": 26,
   "id": "6556d8b6",
   "metadata": {},
   "outputs": [
    {
     "name": "stderr",
     "output_type": "stream",
     "text": [
      "/var/folders/d0/jynx313x2zxf5c5cc974sg280000gn/T/ipykernel_43110/4230052498.py:8: UserWarning: Parsing dates in %d/%m/%Y format when dayfirst=False (the default) was specified. Pass `dayfirst=True` or specify a format to silence this warning.\n",
      "  demo['BIRTHDATE'] = pd.to_datetime(demo['BIRTHDATE'], errors='coerce')\n"
     ]
    },
    {
     "data": {
      "text/html": [
       "<div>\n",
       "<style scoped>\n",
       "    .dataframe tbody tr th:only-of-type {\n",
       "        vertical-align: middle;\n",
       "    }\n",
       "\n",
       "    .dataframe tbody tr th {\n",
       "        vertical-align: top;\n",
       "    }\n",
       "\n",
       "    .dataframe thead th {\n",
       "        text-align: right;\n",
       "    }\n",
       "</style>\n",
       "<table border=\"1\" class=\"dataframe\">\n",
       "  <thead>\n",
       "    <tr style=\"text-align: right;\">\n",
       "      <th></th>\n",
       "      <th>avg_refill_gap</th>\n",
       "      <th>max_refill_gap</th>\n",
       "      <th>total_visits</th>\n",
       "      <th>first_refill_date</th>\n",
       "      <th>last_refill_date</th>\n",
       "      <th>refill_duration_days</th>\n",
       "      <th>ADHERENT_BINARY</th>\n",
       "      <th>GENDER</th>\n",
       "      <th>AGE</th>\n",
       "    </tr>\n",
       "    <tr>\n",
       "      <th>MEMBER</th>\n",
       "      <th></th>\n",
       "      <th></th>\n",
       "      <th></th>\n",
       "      <th></th>\n",
       "      <th></th>\n",
       "      <th></th>\n",
       "      <th></th>\n",
       "      <th></th>\n",
       "      <th></th>\n",
       "    </tr>\n",
       "  </thead>\n",
       "  <tbody>\n",
       "    <tr>\n",
       "      <th>92222888</th>\n",
       "      <td>48.500000</td>\n",
       "      <td>91.0</td>\n",
       "      <td>3</td>\n",
       "      <td>2022-06-02</td>\n",
       "      <td>2022-09-07</td>\n",
       "      <td>97.0</td>\n",
       "      <td>0</td>\n",
       "      <td>M</td>\n",
       "      <td>62</td>\n",
       "    </tr>\n",
       "    <tr>\n",
       "      <th>92222969</th>\n",
       "      <td>26.444444</td>\n",
       "      <td>149.0</td>\n",
       "      <td>10</td>\n",
       "      <td>2022-01-08</td>\n",
       "      <td>2022-09-03</td>\n",
       "      <td>238.0</td>\n",
       "      <td>1</td>\n",
       "      <td>F</td>\n",
       "      <td>65</td>\n",
       "    </tr>\n",
       "    <tr>\n",
       "      <th>92223895</th>\n",
       "      <td>0.000000</td>\n",
       "      <td>0.0</td>\n",
       "      <td>2</td>\n",
       "      <td>2022-07-12</td>\n",
       "      <td>2022-07-12</td>\n",
       "      <td>0.0</td>\n",
       "      <td>1</td>\n",
       "      <td>F</td>\n",
       "      <td>72</td>\n",
       "    </tr>\n",
       "    <tr>\n",
       "      <th>92224675</th>\n",
       "      <td>63.500000</td>\n",
       "      <td>244.0</td>\n",
       "      <td>5</td>\n",
       "      <td>2022-01-01</td>\n",
       "      <td>2022-09-12</td>\n",
       "      <td>254.0</td>\n",
       "      <td>1</td>\n",
       "      <td>F</td>\n",
       "      <td>39</td>\n",
       "    </tr>\n",
       "    <tr>\n",
       "      <th>92225985</th>\n",
       "      <td>78.500000</td>\n",
       "      <td>95.0</td>\n",
       "      <td>3</td>\n",
       "      <td>2022-06-04</td>\n",
       "      <td>2022-11-08</td>\n",
       "      <td>157.0</td>\n",
       "      <td>1</td>\n",
       "      <td>M</td>\n",
       "      <td>59</td>\n",
       "    </tr>\n",
       "  </tbody>\n",
       "</table>\n",
       "</div>"
      ],
      "text/plain": [
       "          avg_refill_gap  max_refill_gap  total_visits first_refill_date  \\\n",
       "MEMBER                                                                     \n",
       "92222888       48.500000            91.0             3        2022-06-02   \n",
       "92222969       26.444444           149.0            10        2022-01-08   \n",
       "92223895        0.000000             0.0             2        2022-07-12   \n",
       "92224675       63.500000           244.0             5        2022-01-01   \n",
       "92225985       78.500000            95.0             3        2022-06-04   \n",
       "\n",
       "         last_refill_date  refill_duration_days  ADHERENT_BINARY GENDER  AGE  \n",
       "MEMBER                                                                        \n",
       "92222888       2022-09-07                  97.0                0      M   62  \n",
       "92222969       2022-09-03                 238.0                1      F   65  \n",
       "92223895       2022-07-12                   0.0                1      F   72  \n",
       "92224675       2022-09-12                 254.0                1      F   39  \n",
       "92225985       2022-11-08                 157.0                1      M   59  "
      ]
     },
     "execution_count": 26,
     "metadata": {},
     "output_type": "execute_result"
    }
   ],
   "source": [
    "demo = (\n",
    "    df.sort_values(by=['MEMBER', 'SERVICE DATE'])\n",
    "      .groupby('MEMBER')[['GENDER', 'BIRTHDATE']]\n",
    "      .first()\n",
    ")\n",
    "\n",
    "# Fix: Convert BIRTHDATE to datetime\n",
    "demo['BIRTHDATE'] = pd.to_datetime(demo['BIRTHDATE'], errors='coerce')\n",
    "\n",
    "# Calculate age\n",
    "demo['AGE'] = pd.to_datetime('today').year - demo['BIRTHDATE'].dt.year\n",
    "\n",
    "# Merge into agg_refill\n",
    "agg_refill = agg_refill.merge(demo[['GENDER', 'AGE']], left_index=True, right_index=True)\n",
    "\n",
    "# Preview\n",
    "agg_refill.head()\n"
   ]
  },
  {
   "cell_type": "markdown",
   "id": "dad99baa",
   "metadata": {},
   "source": [
    "GENDER and AGE have been successfully merged into the dataset.  \n",
    "This completes the enrichment phase, and the dataset is now ready for missing value handling and export for modeling.\n"
   ]
  },
  {
   "cell_type": "markdown",
   "id": "7fbd9cd2",
   "metadata": {},
   "source": [
    "### 🔹 Step 5: Handle Missing Values\n",
    "\n",
    "We check for and handle any missing values to ensure that the final dataset is clean for modeling.\n",
    "\n",
    "- `avg_refill_gap` and `max_refill_gap`: NaN when the patient had only one refill — we fill with 0\n",
    "- `AGE`: NaN due to missing or invalid birthdates — we drop those rows for now\n"
   ]
  },
  {
   "cell_type": "code",
   "execution_count": 27,
   "id": "8171da84",
   "metadata": {},
   "outputs": [
    {
     "data": {
      "text/plain": [
       "avg_refill_gap          1455\n",
       "max_refill_gap          1455\n",
       "total_visits               0\n",
       "first_refill_date        866\n",
       "last_refill_date         866\n",
       "refill_duration_days     866\n",
       "ADHERENT_BINARY            0\n",
       "GENDER                     0\n",
       "AGE                        0\n",
       "dtype: int64"
      ]
     },
     "execution_count": 27,
     "metadata": {},
     "output_type": "execute_result"
    }
   ],
   "source": [
    "# Check missing values\n",
    "agg_refill.isnull().sum()\n"
   ]
  },
  {
   "cell_type": "markdown",
   "id": "a87a3173",
   "metadata": {},
   "source": [
    "The null check shows two types of missing values:\n",
    "\n",
    "- `avg_refill_gap` and `max_refill_gap` are missing for 1,455 patients who had only one recorded visit.  \n",
    "  Since there’s no refill behavior, we fill these with `0.0` to reflect that clearly instead of treating them as unknown.\n",
    "\n",
    "- `first_refill_date`, `last_refill_date`, and `refill_duration_days` are missing for 866 patients — also due to limited visit history.  \n",
    "  These were intermediate fields used to derive refill metrics, so we drop them from the final dataset.\n",
    "\n",
    "All other fields — including `total_visits`, `ADHERENT_BINARY`, `GENDER`, and `AGE` — are complete and require no action.\n"
   ]
  },
  {
   "cell_type": "markdown",
   "id": "4d026388",
   "metadata": {},
   "source": [
    "We finalize the cleaning process by addressing the remaining missing values:\n",
    "\n",
    "- For patients with only one refill, `avg_refill_gap` and `max_refill_gap` are undefined.  \n",
    "  We fill these with `0.0` to reflect the absence of any refill history — a valid and model-informative decision.\n",
    "\n",
    "- Columns like `first_refill_date`, `last_refill_date`, and `refill_duration_days` are dropped since their roles are complete and they introduce unnecessary nulls.\n",
    "\n",
    "The final null check confirms that the dataset has **zero missing values** across all fields:\n",
    "\n"
   ]
  },
  {
   "cell_type": "code",
   "execution_count": 28,
   "id": "741049bd",
   "metadata": {},
   "outputs": [
    {
     "data": {
      "text/plain": [
       "avg_refill_gap     0\n",
       "max_refill_gap     0\n",
       "total_visits       0\n",
       "ADHERENT_BINARY    0\n",
       "GENDER             0\n",
       "AGE                0\n",
       "dtype: int64"
      ]
     },
     "execution_count": 28,
     "metadata": {},
     "output_type": "execute_result"
    }
   ],
   "source": [
    "# Fill missing gap features with 0\n",
    "agg_refill['avg_refill_gap'] = agg_refill['avg_refill_gap'].fillna(0)\n",
    "agg_refill['max_refill_gap'] = agg_refill['max_refill_gap'].fillna(0)\n",
    "\n",
    "# Drop columns we no longer need\n",
    "agg_refill = agg_refill.drop(columns=['first_refill_date', 'last_refill_date', 'refill_duration_days'])\n",
    "\n",
    "# Final null check\n",
    "agg_refill.isnull().sum()\n"
   ]
  },
  {
   "cell_type": "markdown",
   "id": "3effc587",
   "metadata": {},
   "source": [
    "The final null check confirms that all fields in the dataset are now complete:\n",
    "\n",
    "- `avg_refill_gap` and `max_refill_gap` have been filled with `0.0` for one-visit patients\n",
    "- Temporary date-based fields have been dropped\n",
    "- No missing values remain in key fields like `AGE`, `GENDER`, `ADHERENT_BINARY`, or `total_visits`\n",
    "\n",
    "The dataset is now fully cleaned and ready to export for modeling.\n"
   ]
  },
  {
   "cell_type": "markdown",
   "id": "7d327b23",
   "metadata": {},
   "source": [
    "### 🔹 Step 6: Export Final Modeling Dataset\n",
    "\n",
    "Now that the dataset is fully cleaned, enriched, and validated, we export it for use in the next phase (model training).\n",
    "\n",
    "We’ll save it both as a `.csv` for readability and a `.pkl` file for faster loading in Python.\n"
   ]
  },
  {
   "cell_type": "code",
   "execution_count": 30,
   "id": "0ad0eb49",
   "metadata": {},
   "outputs": [
    {
     "data": {
      "text/plain": [
       "(4444, 6)"
      ]
     },
     "execution_count": 30,
     "metadata": {},
     "output_type": "execute_result"
    }
   ],
   "source": [
    "# Save as CSV\n",
    "agg_refill.to_csv('../dataset/processed/final_model_data.csv', index=True)\n",
    "\n",
    "# Save as Pickle (faster for loading in notebooks)\n",
    "agg_refill.to_pickle('../dataset/processed/final_model_data.pkl')\n",
    "\n",
    "# Confirm shape\n",
    "agg_refill.shape\n"
   ]
  },
  {
   "cell_type": "markdown",
   "id": "1f8943a2",
   "metadata": {},
   "source": [
    "The final dataset contains all the features needed for model training, including:\n",
    "\n",
    "- Refill behavior metrics (`avg_refill_gap`, `max_refill_gap`, `total_visits`)\n",
    "- Demographics (`AGE`, `GENDER`)\n",
    "- Target variable (`ADHERENT_BINARY`)\n",
    "\n",
    "Exporting it here allows us to keep a clear separation between Phase 2 (feature engineering) and Phase 3 (model building).  \n",
    "It also ensures that our modeling steps are fully reproducible and not dependent on re-running earlier notebooks.\n"
   ]
  },
  {
   "cell_type": "markdown",
   "id": "d5804ef7",
   "metadata": {},
   "source": [
    "## ✅ Phase 2 Summary: Feature Engineering Complete\n",
    "\n",
    "In this phase, we transformed raw claim-level data into a structured, patient-level dataset suitable for modeling.\n",
    "\n",
    "### 🔧 Key Actions Completed:\n",
    "- Recalculated `DAYS_SINCE_LAST_REFILL` for each patient using `SERVICE DATE`\n",
    "- Aggregated refill behavior metrics per patient:\n",
    "  - `avg_refill_gap`, `max_refill_gap`, `total_visits`, and refill duration\n",
    "- Merged the final adherence label (`ADHERENT_BINARY`) based on each patient’s most recent refill behavior\n",
    "- Enriched the dataset with demographic features:\n",
    "  - Extracted `GENDER` and calculated `AGE` from `BIRTHDATE`\n",
    "- Handled missing values:\n",
    "  - Filled undefined refill gaps with `0.0`\n",
    "  - Dropped intermediate date fields not needed for modeling\n",
    "- Exported the final dataset in both `.csv` and `.pkl` formats for downstream modeling\n",
    "\n",
    "### 📦 Final Dataset Ready for Modeling:\n",
    "The resulting dataset is clean, complete, and contains both predictive features and the supervised target.  \n",
    "We are now ready to begin Phase 3: Model Training and Evaluation.\n"
   ]
  }
 ],
 "metadata": {
  "kernelspec": {
   "display_name": ".venv",
   "language": "python",
   "name": "python3"
  },
  "language_info": {
   "codemirror_mode": {
    "name": "ipython",
    "version": 3
   },
   "file_extension": ".py",
   "mimetype": "text/x-python",
   "name": "python",
   "nbconvert_exporter": "python",
   "pygments_lexer": "ipython3",
   "version": "3.11.12"
  }
 },
 "nbformat": 4,
 "nbformat_minor": 5
}
